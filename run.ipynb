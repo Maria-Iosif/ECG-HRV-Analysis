{
 "cells": [
  {
   "cell_type": "code",
   "execution_count": 5,
   "metadata": {
    "tags": []
   },
   "outputs": [
    {
     "ename": "SyntaxError",
     "evalue": "invalid syntax (<ipython-input-5-5078d172d2e0>, line 5)",
     "output_type": "error",
     "traceback": [
      "\u001b[1;36m  File \u001b[1;32m\"<ipython-input-5-5078d172d2e0>\"\u001b[1;36m, line \u001b[1;32m5\u001b[0m\n\u001b[1;33m    pip install wfdb\u001b[0m\n\u001b[1;37m              ^\u001b[0m\n\u001b[1;31mSyntaxError\u001b[0m\u001b[1;31m:\u001b[0m invalid syntax\n"
     ]
    }
   ],
   "source": [
    "import matplotlib.pyplot as plt\n",
    "import pathlib\n",
    "import seaborn as sns\n",
    "import wfdb\n",
    "\n",
    "from ecg_hrv_analysis.frequency_domain import *\n",
    "from ecg_hrv_analysis.plot import *\n",
    "from ecg_hrv_analysis.signal_processing import *\n",
    "from ecg_hrv_analysis.time_domain import *\n",
    "from scipy.stats import norm\n",
    "\n"
   ]
  },
  {
   "cell_type": "code",
   "execution_count": null,
   "metadata": {},
   "outputs": [],
   "source": [
    "\n",
    "data_path = pathlib.Path(\"./ecg_data/physionet.org/files/mitdb/1.0.0\")\n",
    "\n",
    "patiens, annotations = data_dict(data_path)\n",
    "\n",
    "rpeaks_dict, fpfn_R_an_dict, fpfn_R_R_dict = rpeaks_extr(pat, an, low, high)"
   ]
  },
  {
   "cell_type": "code",
   "execution_count": null,
   "metadata": {},
   "outputs": [],
   "source": [
    "i_pat = 0\n",
    "chan = 0\n",
    "f_low = 5\n",
    "f_high = 12\n",
    "\n",
    "ecg_signals(i_pat, patients ,chan, f_low, f_high )"
   ]
  },
  {
   "cell_type": "code",
   "execution_count": null,
   "metadata": {},
   "outputs": [],
   "source": [
    "length = len( [i for i, elem in enumerate(r_peaks) if elem<5400])\n",
    "\n",
    "xx = [rp/360 for rp in r_peaks[:length]]\n",
    "xx2 = [rp/360 for rp in an[0].get('sample')[1:length +1 ]]\n",
    "\n",
    "yy= mwi_ecg[r_peaks[:length]] \n",
    "yy2= mwi_ecg[ an[0].get('sample')[1:length+1]]\n",
    "\n",
    "fig, axs = plt.subplots(1, 1, figsize= (12,7))\n",
    "axs.plot(x[:5400],mwi_ecg[:5400])\n",
    "axs.scatter( xx, yy, c=\"r\", marker='x',label = 'detected R peaks' )\n",
    "axs.scatter( xx2, yy2, c=\"g\", marker='x',label = 'Annotations' )\n",
    "plt.legend()\n",
    "plt.xlabel('time [s]')\n",
    "plt.ylabel('MWI ECG')"
   ]
  },
  {
   "cell_type": "code",
   "execution_count": null,
   "metadata": {},
   "outputs": [],
   "source": [
    "hr1 = calculate_heart_rate(r_peaks, 360)\n",
    "\n",
    "an_peaks = an[0].get('sample')\n",
    "hr2 = calculate_heart_rate(an_peaks,360)\n"
   ]
  },
  {
   "cell_type": "code",
   "execution_count": null,
   "metadata": {},
   "outputs": [],
   "source": [
    "fig, axs = plt.subplots(3, 1, sharex = True ,figsize = (12,7), gridspec_kw={'height_ratios': [7, 1,1]})\n",
    "\n",
    "min_val = min(min(hr1), min(hr2))-5\n",
    "max_val = max(max(hr1), max(hr2[1:]))+5\n",
    "# bins = np.linspace(min_val, max_val, num=150)\n",
    "\n",
    "mu1, std1 = norm.fit(hr1)\n",
    "mu2, std2 = norm.fit(hr2)\n",
    "\n",
    "axs[0].hist(hr1, bins=100, histtype=u'step', color = 'r')\n",
    "axs[0].hist(hr1, bins=100, alpha=0.3, label = 'Heart rate from detected R, \\n mean HR %.2f' %mu1, color = 'r')\n",
    "axs[0].hist(hr2[1:], bins=100, histtype=u'step', color = 'blue')\n",
    "axs[0].hist(hr2[1:], bins=100, alpha=0.3, label = 'Heart rate from annotated R, \\n mean HR %.2f' %mu2, color = 'blue')\n",
    "sns.boxplot(hr1, ax = axs[1],color = 'r', boxprops=dict(alpha=.3), orient=\"h\")\n",
    "sns.boxplot(hr2[1:], ax = axs[2],color = 'blue', boxprops=dict(alpha=.3), orient=\"h\")\n",
    "\n",
    "axs[1].axis('off')\n",
    "axs[2].axis('off')\n",
    "\n",
    "axs[0].tick_params(reset=True)\n",
    "plt.xlim(min_val, max_val)\n",
    "axs[0].legend()"
   ]
  },
  {
   "cell_type": "code",
   "execution_count": null,
   "metadata": {},
   "outputs": [],
   "source": [
    "test_dict = count_beats(pat, an, num = True)\n",
    "\n",
    "# create sample data with labels\n",
    "data = test_dict\n",
    "df = pd.DataFrame(data, index=[i for i in range(48)])\n",
    "\n",
    "# create stacked bar plot\n",
    "ax = df.plot(kind='bar', stacked=True, figsize=(8,6), cmap = 'PiYG')\n",
    "\n",
    "# add labels and legend\n",
    "ax.set_xlabel('Individuals')\n",
    "ax.set_ylabel('Number of Labels')\n",
    "ax.legend(title='Labels')\n",
    "ax.legend(loc='center left', bbox_to_anchor=(1, 0.5))\n",
    "\n",
    "# show plot\n",
    "plt.show()"
   ]
  },
  {
   "cell_type": "code",
   "execution_count": null,
   "metadata": {},
   "outputs": [],
   "source": [
    "hr_m = mean_heart_rate(rpeaks_dict, 360)\n",
    "means = mean_for_an()\n",
    "\n",
    "fig, axs = plt.subplots(1, 1, figsize = (15,10))\n",
    "axs.plot([i for i in range(len(pat))],hr_m, color = 'b')\n",
    "axs.plot([i for i in range(len(pat))],means, color = 'r')\n",
    "axs.scatter([i for i in range(len(pat))],hr_m,color = 'b',label = 'Mean heart rate')\n",
    "axs.scatter([i for i in range(len(pat))],means,color = 'r',  label = 'Mean heart rate from an.')\n",
    "plt.legend()\n",
    "plt.xlabel('Individuals')\n",
    "plt.ylabel('Mean heart rate')"
   ]
  },
  {
   "cell_type": "code",
   "execution_count": null,
   "metadata": {},
   "outputs": [],
   "source": [
    "test_dict = count_beats(pat, an, num = False)\n",
    "\n",
    "df = pd.DataFrame.from_dict(test_dict)\n",
    "fig, ax = plt.subplots(1,1,figsize = (16,9))\n",
    "ax = sns.heatmap(df,linewidth=0., cmap =\"PiYG\")"
   ]
  },
  {
   "cell_type": "code",
   "execution_count": null,
   "metadata": {},
   "outputs": [],
   "source": []
  }
 ],
 "metadata": {
  "kernelspec": {
   "display_name": "Python 3",
   "language": "python",
   "name": "python3"
  },
  "language_info": {
   "codemirror_mode": {
    "name": "ipython",
    "version": 3
   },
   "file_extension": ".py",
   "mimetype": "text/x-python",
   "name": "python",
   "nbconvert_exporter": "python",
   "pygments_lexer": "ipython3",
   "version": "3.7.3"
  }
 },
 "nbformat": 4,
 "nbformat_minor": 5
}
